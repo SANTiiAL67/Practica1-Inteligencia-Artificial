{
 "cells": [
  {
   "cell_type": "code",
   "execution_count": 1,
   "metadata": {},
   "outputs": [
    {
     "data": {
      "text/plain": [
       "40"
      ]
     },
     "execution_count": 1,
     "metadata": {},
     "output_type": "execute_result"
    }
   ],
   "source": [
    "#curl converter from json to python\n",
    "import requests\n",
    "\n",
    "headers = {\n",
    "    'Accept': 'application/json, text/plain, */*',\n",
    "    'Accept-Language': 'es,it-IT;q=0.9,it;q=0.8,en-US;q=0.7,en;q=0.6',\n",
    "    'Connection': 'keep-alive',\n",
    "    'DeviceOS': '0',\n",
    "    'MPID': '5162307296498915859',\n",
    "    'Origin': 'https://es.wallapop.com',\n",
    "    'Referer': 'https://es.wallapop.com/',\n",
    "    'Sec-Fetch-Dest': 'empty',\n",
    "    'Sec-Fetch-Mode': 'cors',\n",
    "    'Sec-Fetch-Site': 'same-site',\n",
    "    'User-Agent': 'Mozilla/5.0 (Windows NT 10.0; Win64; x64) AppleWebKit/537.36 (KHTML, like Gecko) Chrome/109.0.0.0 Safari/537.36',\n",
    "    'X-AppVersion': '73920',\n",
    "    'X-DeviceID': '3a8aecd4-95d8-4b06-94a0-030e2e19a028',\n",
    "    'X-DeviceOS': '0',\n",
    "    'sec-ch-ua': '\"Not_A Brand\";v=\"99\", \"Google Chrome\";v=\"109\", \"Chromium\";v=\"109\"',\n",
    "    'sec-ch-ua-mobile': '?0',\n",
    "    'sec-ch-ua-platform': '\"Windows\"',\n",
    "}\n",
    "\n",
    "params = {\n",
    "    'keywords': 'camisetas ',\n",
    "    'filters_source': 'suggester',\n",
    "    'longitude': '-1.8588',\n",
    "    'latitude': '38.9942',\n",
    "    \n",
    "}\n",
    "\n",
    "camisetas = []\n",
    "\n",
    "request = requests.get('https://api.wallapop.com/api/v3/general/search', params=params, headers=headers)\n",
    "camisetas += request.json()['search_objects']\n",
    "\n",
    "len(camisetas)"
   ]
  },
  {
   "cell_type": "code",
   "execution_count": 2,
   "metadata": {},
   "outputs": [],
   "source": [
    "# Guardamos los datos en un json\n",
    "import json\n",
    "\n",
    "with open('camisetas.json', 'w') as f:\n",
    "   json_camisetas = json.dump(camisetas, f)\n",
    "   print"
   ]
  }
 ],
 "metadata": {
  "kernelspec": {
   "display_name": "base",
   "language": "python",
   "name": "python3"
  },
  "language_info": {
   "codemirror_mode": {
    "name": "ipython",
    "version": 3
   },
   "file_extension": ".py",
   "mimetype": "text/x-python",
   "name": "python",
   "nbconvert_exporter": "python",
   "pygments_lexer": "ipython3",
   "version": "3.9.13"
  },
  "orig_nbformat": 4
 },
 "nbformat": 4,
 "nbformat_minor": 2
}
