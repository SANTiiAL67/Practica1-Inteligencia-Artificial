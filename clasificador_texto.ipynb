{
 "cells": [
  {
   "cell_type": "code",
   "execution_count": 20,
   "metadata": {},
   "outputs": [
    {
     "name": "stdout",
     "output_type": "stream",
     "text": [
      "<class 'list'>\n",
      "<class 'list'>\n"
     ]
    }
   ],
   "source": [
    "# Cargamos los datos de los ficheros y los mostramos\n",
    "\n",
    "import json\n",
    "\n",
    "\n",
    "with open('peliculas_humor.json', 'r') as c:\n",
    "        humor = json.load(c)\n",
    "print(type(humor))\n",
    "\n",
    "\n",
    "with open('peliculas_terror.json', 'r') as t:\n",
    "        terror = json.load(t)\n",
    "print(type(terror))"
   ]
  },
  {
   "cell_type": "code",
   "execution_count": 21,
   "metadata": {},
   "outputs": [
    {
     "data": {
      "text/html": [
       "<div>\n",
       "<style scoped>\n",
       "    .dataframe tbody tr th:only-of-type {\n",
       "        vertical-align: middle;\n",
       "    }\n",
       "\n",
       "    .dataframe tbody tr th {\n",
       "        vertical-align: top;\n",
       "    }\n",
       "\n",
       "    .dataframe thead th {\n",
       "        text-align: right;\n",
       "    }\n",
       "</style>\n",
       "<table border=\"1\" class=\"dataframe\">\n",
       "  <thead>\n",
       "    <tr style=\"text-align: right;\">\n",
       "      <th></th>\n",
       "      <th>title</th>\n",
       "      <th>genre</th>\n",
       "      <th>sinopsis</th>\n",
       "    </tr>\n",
       "  </thead>\n",
       "  <tbody>\n",
       "    <tr>\n",
       "      <th>0</th>\n",
       "      <td>Cabinet of Curiosities: Graveyard Rats</td>\n",
       "      <td>[Terror, Comedia]</td>\n",
       "      <td>[Un ladrón de tumbas le echa el ojo a las riqu...</td>\n",
       "    </tr>\n",
       "    <tr>\n",
       "      <th>1</th>\n",
       "      <td>Mudbrick</td>\n",
       "      <td>[Terror]</td>\n",
       "      <td>[Después de heredar una vieja casa de adobe en...</td>\n",
       "    </tr>\n",
       "    <tr>\n",
       "      <th>2</th>\n",
       "      <td>Star Wars Visions: I Am Your Mother</td>\n",
       "      <td>[Animación, Comedia]</td>\n",
       "      <td>[]</td>\n",
       "    </tr>\n",
       "    <tr>\n",
       "      <th>3</th>\n",
       "      <td>Sweeter Than Chocolate</td>\n",
       "      <td>[Comedia, Romance]</td>\n",
       "      <td>[Un reportero de televisión va a investigar un...</td>\n",
       "    </tr>\n",
       "    <tr>\n",
       "      <th>4</th>\n",
       "      <td>Cabinet of Curiosities: Lot 36</td>\n",
       "      <td>[Terror]</td>\n",
       "      <td>[Un hombre cree que un trastero lleno de trast...</td>\n",
       "    </tr>\n",
       "    <tr>\n",
       "      <th>...</th>\n",
       "      <td>...</td>\n",
       "      <td>...</td>\n",
       "      <td>...</td>\n",
       "    </tr>\n",
       "    <tr>\n",
       "      <th>995</th>\n",
       "      <td>American Horror Stories: Lake</td>\n",
       "      <td>[Terror, Intriga, Drama]</td>\n",
       "      <td>[Un misterioso ahogamiento deja entrever secre...</td>\n",
       "    </tr>\n",
       "    <tr>\n",
       "      <th>996</th>\n",
       "      <td>Ijiranaide, Nagatoro-san 2nd Attack</td>\n",
       "      <td>[Serie de TV, Animación, Comedia, Romance]</td>\n",
       "      <td>[Serie de TV (2023). 12 episodios. Secuela de ...</td>\n",
       "    </tr>\n",
       "    <tr>\n",
       "      <th>997</th>\n",
       "      <td>Era ora</td>\n",
       "      <td>[Drama, Comedia, Fantástico]</td>\n",
       "      <td>[Dante besa accidentalmente a Alice que tiene ...</td>\n",
       "    </tr>\n",
       "    <tr>\n",
       "      <th>998</th>\n",
       "      <td>El Tonto</td>\n",
       "      <td>[Comedia]</td>\n",
       "      <td>[Un sordomudo (Charlie Day) se convierte en un...</td>\n",
       "    </tr>\n",
       "    <tr>\n",
       "      <th>999</th>\n",
       "      <td>The Wedding Veil Inspiration</td>\n",
       "      <td>[Romance, Comedia]</td>\n",
       "      <td>[El plan de vida de Emma se desvía cuando Paol...</td>\n",
       "    </tr>\n",
       "  </tbody>\n",
       "</table>\n",
       "<p>1000 rows × 3 columns</p>\n",
       "</div>"
      ],
      "text/plain": [
       "                                      title  \\\n",
       "0    Cabinet of Curiosities: Graveyard Rats   \n",
       "1                                  Mudbrick   \n",
       "2       Star Wars Visions: I Am Your Mother   \n",
       "3                    Sweeter Than Chocolate   \n",
       "4            Cabinet of Curiosities: Lot 36   \n",
       "..                                      ...   \n",
       "995           American Horror Stories: Lake   \n",
       "996     Ijiranaide, Nagatoro-san 2nd Attack   \n",
       "997                                 Era ora   \n",
       "998                                El Tonto   \n",
       "999            The Wedding Veil Inspiration   \n",
       "\n",
       "                                          genre  \\\n",
       "0                             [Terror, Comedia]   \n",
       "1                                      [Terror]   \n",
       "2                          [Animación, Comedia]   \n",
       "3                            [Comedia, Romance]   \n",
       "4                                      [Terror]   \n",
       "..                                          ...   \n",
       "995                    [Terror, Intriga, Drama]   \n",
       "996  [Serie de TV, Animación, Comedia, Romance]   \n",
       "997                [Drama, Comedia, Fantástico]   \n",
       "998                                   [Comedia]   \n",
       "999                          [Romance, Comedia]   \n",
       "\n",
       "                                              sinopsis  \n",
       "0    [Un ladrón de tumbas le echa el ojo a las riqu...  \n",
       "1    [Después de heredar una vieja casa de adobe en...  \n",
       "2                                                   []  \n",
       "3    [Un reportero de televisión va a investigar un...  \n",
       "4    [Un hombre cree que un trastero lleno de trast...  \n",
       "..                                                 ...  \n",
       "995  [Un misterioso ahogamiento deja entrever secre...  \n",
       "996  [Serie de TV (2023). 12 episodios. Secuela de ...  \n",
       "997  [Dante besa accidentalmente a Alice que tiene ...  \n",
       "998  [Un sordomudo (Charlie Day) se convierte en un...  \n",
       "999  [El plan de vida de Emma se desvía cuando Paol...  \n",
       "\n",
       "[1000 rows x 3 columns]"
      ]
     },
     "execution_count": 21,
     "metadata": {},
     "output_type": "execute_result"
    }
   ],
   "source": [
    "# Hacemos un dataframe con los datos de los dos ficheros\n",
    "\n",
    "import pandas as pd\n",
    "\n",
    "todopelis = humor + terror\n",
    "\n",
    "df = pd.DataFrame(todopelis)\n",
    "df_total = df.sample(frac=1).reset_index(drop=True)\n",
    "df_total"
   ]
  },
  {
   "cell_type": "code",
   "execution_count": 22,
   "metadata": {},
   "outputs": [
    {
     "name": "stderr",
     "output_type": "stream",
     "text": [
      "C:\\Users\\MSI\\AppData\\Local\\Temp\\ipykernel_2080\\3995828712.py:9: SettingWithCopyWarning: \n",
      "A value is trying to be set on a copy of a slice from a DataFrame.\n",
      "Try using .loc[row_indexer,col_indexer] = value instead\n",
      "\n",
      "See the caveats in the documentation: https://pandas.pydata.org/pandas-docs/stable/user_guide/indexing.html#returning-a-view-versus-a-copy\n",
      "  df_dos_generos['sinopsis'] = df_dos_generos['sinopsis'].apply(''.join)\n"
     ]
    }
   ],
   "source": [
    "# Creamos un nuevo Dataframe que contiene solo las filas con género Humor o Terror y luego obtengo el recuento de cada género en otro dataframe\n",
    "\n",
    "df_exploded = df_total.explode('genre') \n",
    "genre_counts = df_exploded['genre'].value_counts() \n",
    "\n",
    "df_dos_generos = df_exploded[df_exploded['genre'].isin(['Comedia', 'Terror'])] \n",
    "genre_counts_dos_generos = df_dos_generos['genre'].value_counts() \n",
    "\n",
    "df_dos_generos['sinopsis'] = df_dos_generos['sinopsis'].apply(''.join) "
   ]
  },
  {
   "cell_type": "code",
   "execution_count": 23,
   "metadata": {},
   "outputs": [],
   "source": [
    "# Comenzamos a preparar el modelo dividiendo los datos en train y test\n",
    "from sklearn.model_selection import train_test_split\n",
    "sinopsis = df_dos_generos['sinopsis']\n",
    "genero = df_dos_generos['genre']\n",
    "sinopsis_train, sinopsis_test, genero_train, genero_test = train_test_split(sinopsis, genero, test_size=0.4, random_state=30)\n"
   ]
  },
  {
   "cell_type": "code",
   "execution_count": 24,
   "metadata": {},
   "outputs": [
    {
     "name": "stdout",
     "output_type": "stream",
     "text": [
      "              precision    recall  f1-score   support\n",
      "\n",
      "       Humor       0.71      0.60      0.65       235\n",
      "      Terror       0.59      0.70      0.64       195\n",
      "\n",
      "    accuracy                           0.65       430\n",
      "   macro avg       0.65      0.65      0.65       430\n",
      "weighted avg       0.66      0.65      0.65       430\n",
      "\n"
     ]
    }
   ],
   "source": [
    "from sklearn.feature_extraction.text import CountVectorizer\n",
    "from sklearn.linear_model import LogisticRegression\n",
    "from sklearn.metrics import classification_report\n",
    "\n",
    "#Creamos el vectorizador sin especificar las stopwords\n",
    "vectorizador = CountVectorizer()\n",
    "\n",
    "#Aplicamos el vectorizador a los datos de entrenamiento y prueba\n",
    "sinopsis_train_vector = vectorizador.fit_transform(sinopsis_train)\n",
    "sinopsis_test_vector = vectorizador.transform(sinopsis_test)\n",
    "\n",
    "#Creamos el modelo de clasificación y lo entrenamos usando LogisticRegression\n",
    "clf = LogisticRegression()\n",
    "clf.fit(sinopsis_train_vector, genero_train)\n",
    "\n",
    "\n",
    "preds = clf.predict(sinopsis_test_vector)\n",
    "print(classification_report(genero_test,preds,target_names=['Humor','Terror']))"
   ]
  },
  {
   "cell_type": "code",
   "execution_count": 25,
   "metadata": {},
   "outputs": [
    {
     "data": {
      "text/plain": [
       "array(['Comedia'], dtype=object)"
      ]
     },
     "execution_count": 25,
     "metadata": {},
     "output_type": "execute_result"
    }
   ],
   "source": [
    "# Creamos un pipeline \n",
    "\n",
    "from sklearn.pipeline import Pipeline\n",
    "import pickle as pkl\n",
    "\n",
    "pipe=Pipeline([('vectorizador',vectorizador),('clasificador',clf)])\n",
    "pipe.predict([sinopsis_test.iloc[67]])\n"
   ]
  },
  {
   "cell_type": "code",
   "execution_count": 26,
   "metadata": {},
   "outputs": [],
   "source": [
    "# Guardamos el modelo\n",
    "pkl.dump(pipe, open(\"clf_genero.pkl\", \"wb\"))"
   ]
  }
 ],
 "metadata": {
  "kernelspec": {
   "display_name": "base",
   "language": "python",
   "name": "python3"
  },
  "language_info": {
   "codemirror_mode": {
    "name": "ipython",
    "version": 3
   },
   "file_extension": ".py",
   "mimetype": "text/x-python",
   "name": "python",
   "nbconvert_exporter": "python",
   "pygments_lexer": "ipython3",
   "version": "3.9.13"
  },
  "orig_nbformat": 4
 },
 "nbformat": 4,
 "nbformat_minor": 2
}
