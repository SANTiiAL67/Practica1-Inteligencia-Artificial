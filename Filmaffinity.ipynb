{
 "cells": [
  {
   "cell_type": "code",
   "execution_count": 34,
   "metadata": {},
   "outputs": [
    {
     "data": {
      "text/plain": [
       "50"
      ]
     },
     "execution_count": 34,
     "metadata": {},
     "output_type": "execute_result"
    }
   ],
   "source": [
    "import requests\n",
    "from bs4 import BeautifulSoup\n",
    "\n",
    "url = \"https://www.filmaffinity.com/es/moviegenre.php?genre=TE&attr=rat_count&nodoc\"\n",
    "\n",
    "peliculas_terror = []\n",
    "\n",
    "for almacen in range(0, 1):\n",
    "    page = requests.get(url)\n",
    "    soup = BeautifulSoup(page.content, 'html.parser')\n",
    "    peliculas = soup.find_all('div',  class_='mc-title')\n",
    "    for titulo in peliculas:\n",
    "            title = titulo.find('a').get_text()\n",
    "            titulo = title\n",
    "            peliculas_terror.append(titulo)\n",
    "\n",
    "len(peliculas_terror)"
   ]
  },
  {
   "cell_type": "code",
   "execution_count": 28,
   "metadata": {},
   "outputs": [],
   "source": [
    "# Guardamos los datos en un json\n",
    "import json\n",
    "\n",
    "with open('peliculas_terror.json', 'w') as f:\n",
    "    json.dump(peliculas_terror, f)"
   ]
  },
  {
   "cell_type": "code",
   "execution_count": 32,
   "metadata": {},
   "outputs": [
    {
     "data": {
      "text/plain": [
       "100"
      ]
     },
     "execution_count": 32,
     "metadata": {},
     "output_type": "execute_result"
    }
   ],
   "source": [
    "url = \"https://www.filmaffinity.com/es/moviegenre.php?genre=CO&attr=rat_count&nodoc\"\n",
    "\n",
    "peliculas_humor = []\n",
    "\n",
    "for almacen in range(0, 2):\n",
    "    page = requests.get(url)\n",
    "    soup = BeautifulSoup(page.content, 'html.parser')\n",
    "    peliculas = soup.find_all('div',  class_='mc-title')\n",
    "    for titulo in peliculas:\n",
    "            title = titulo.find('a').get_text()\n",
    "            titulo = title\n",
    "            peliculas_humor.append(titulo)\n",
    "\n",
    "len(peliculas_humor)"
   ]
  },
  {
   "cell_type": "code",
   "execution_count": 33,
   "metadata": {},
   "outputs": [],
   "source": [
    "# Guardamos los datos en un json\n",
    "import json\n",
    "\n",
    "with open('peliculas_humor.json', 'w') as f:\n",
    "    json.dump(peliculas_humor, f)"
   ]
  }
 ],
 "metadata": {
  "kernelspec": {
   "display_name": "base",
   "language": "python",
   "name": "python3"
  },
  "language_info": {
   "codemirror_mode": {
    "name": "ipython",
    "version": 3
   },
   "file_extension": ".py",
   "mimetype": "text/x-python",
   "name": "python",
   "nbconvert_exporter": "python",
   "pygments_lexer": "ipython3",
   "version": "3.9.13"
  },
  "orig_nbformat": 4
 },
 "nbformat": 4,
 "nbformat_minor": 2
}
